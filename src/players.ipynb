{
 "cells": [
  {
   "cell_type": "markdown",
   "metadata": {},
   "source": [
    " ### ANALYSIS OF THE PLAYERS DATASET "
   ]
  },
  {
   "cell_type": "markdown",
   "metadata": {},
   "source": [
    "# Data analysis from players,players valuations and clubs datasets \n",
    "The first cell is just to set folder path and library used"
   ]
  },
  {
   "cell_type": "code",
   "metadata": {
    "collapsed": false,
    "jupyter": {
     "outputs_hidden": false
    },
    "ExecuteTime": {
     "end_time": "2024-06-26T17:35:14.763558Z",
     "start_time": "2024-06-26T17:35:11.372446Z"
    }
   },
   "source": [
    "import pandas as pd\n",
    "import seaborn as sns \n",
    "import geopandas as gpd\n",
    "import matplotlib.pyplot as plt\n",
    "# import plotly.express as px\n",
    "\n",
    "folder_path = '../assets/Assignment_Data_2023-2024/Assignment_Data_2023-2024/'\n",
    "players_df = pd.read_csv(folder_path+'players.csv')\n",
    "club_df = pd.read_csv(folder_path+'clubs.csv')\n",
    "appereances_df = pd.read_csv(folder_path+'appearances.csv')\n",
    "players_valuations_df = pd.read_csv(folder_path+'player_valuations.csv')\n",
    "players_valuations_df_nona = players_valuations_df.dropna()\n",
    "players_df_nona = players_df.dropna()"
   ],
   "outputs": [],
   "execution_count": 2
  },
  {
   "cell_type": "markdown",
   "metadata": {
    "collapsed": false,
    "jupyter": {
     "outputs_hidden": false
    }
   },
   "source": [
    "# Value of the players correlated to their position \n",
    "Distribution of market value of players depending on their position\n",
    "We can see 1 point in the Attack column that we can consider an outlier because it is out of the usual bounds "
   ]
  },
  {
   "cell_type": "code",
   "metadata": {
    "ExecuteTime": {
     "end_time": "2024-06-26T17:35:14.993372Z",
     "start_time": "2024-06-26T17:35:14.765340Z"
    }
   },
   "source": [
    "sns.scatterplot(x='position', y='market_value_in_eur', data=players_df_nona)\n",
    "plt.show(); "
   ],
   "outputs": [
    {
     "data": {
      "text/plain": [
       "<Figure size 640x480 with 1 Axes>"
      ],
      "image/png": "[encoded data removed]"
     },
     "metadata": {},
     "output_type": "display_data"
    }
   ],
   "execution_count": 3
  },
  {
   "cell_type": "markdown",
   "metadata": {},
   "source": []
  },
  {
   "cell_type": "markdown",
   "metadata": {
    "collapsed": false,
    "jupyter": {
     "outputs_hidden": false
    }
   },
   "source": [
    "# Analysis of the outlier in the Attack column\n",
    "Finding who is the player that has the highest market value in the Attack position\n",
    "that create the outlier in the graph above,just by searcing the highest value in the column"
   ]
  },
  {
   "cell_type": "code",
   "metadata": {
    "collapsed": false,
    "jupyter": {
     "outputs_hidden": false
    },
    "ExecuteTime": {
     "end_time": "2024-06-26T17:35:15.100471Z",
     "start_time": "2024-06-26T17:35:14.995793Z"
    }
   },
   "source": [
    "players_df_nona[players_df_nona['market_value_in_eur'] == players_df_nona['market_value_in_eur'].max()]\n"
   ],
   "outputs": [
    {
     "data": {
      "text/plain": [
       "       player_id first_name last_name            name  last_season  \\\n",
       "12249     418560     Erling   Haaland  Erling Haaland         2023   \n",
       "\n",
       "       current_club_id     player_code country_of_birth city_of_birth  \\\n",
       "12249              281  erling-haaland          England         Leeds   \n",
       "\n",
       "      country_of_citizenship  ...  foot height_in_cm market_value_in_eur  \\\n",
       "12249                 Norway  ...  left        195.0         180000000.0   \n",
       "\n",
       "      highest_market_value_in_eur  contract_expiration_date       agent_name  \\\n",
       "12249                 180000000.0       2027-06-30 00:00:00  Rafaela Pimenta   \n",
       "\n",
       "                                               image_url  \\\n",
       "12249  https://img.a.transfermarkt.technology/portrai...   \n",
       "\n",
       "                                                     url  \\\n",
       "12249  https://www.transfermarkt.co.uk/erling-haaland...   \n",
       "\n",
       "      current_club_domestic_competition_id current_club_name  \n",
       "12249                                  GB1   Manchester City  \n",
       "\n",
       "[1 rows x 23 columns]"
      ],
      "text/html": [
       "<div>\n",
       "<style scoped>\n",
       "    .dataframe tbody tr th:only-of-type {\n",
       "        vertical-align: middle;\n",
       "    }\n",
       "\n",
       "    .dataframe tbody tr th {\n",
       "        vertical-align: top;\n",
       "    }\n",
       "\n",
       "    .dataframe thead th {\n",
       "        text-align: right;\n",
       "    }\n",
       "</style>\n",
       "<table border=\"1\" class=\"dataframe\">\n",
       "  <thead>\n",
       "    <tr style=\"text-align: right;\">\n",
       "      <th></th>\n",
       "      <th>player_id</th>\n",
       "      <th>first_name</th>\n",
       "      <th>last_name</th>\n",
       "      <th>name</th>\n",
       "      <th>last_season</th>\n",
       "      <th>current_club_id</th>\n",
       "      <th>player_code</th>\n",
       "      <th>country_of_birth</th>\n",
       "      <th>city_of_birth</th>\n",
       "      <th>country_of_citizenship</th>\n",
       "      <th>...</th>\n",
       "      <th>foot</th>\n",
       "      <th>height_in_cm</th>\n",
       "      <th>market_value_in_eur</th>\n",
       "      <th>highest_market_value_in_eur</th>\n",
       "      <th>contract_expiration_date</th>\n",
       "      <th>agent_name</th>\n",
       "      <th>image_url</th>\n",
       "      <th>url</th>\n",
       "      <th>current_club_domestic_competition_id</th>\n",
       "      <th>current_club_name</th>\n",
       "    </tr>\n",
       "  </thead>\n",
       "  <tbody>\n",
       "    <tr>\n",
       "      <th>12249</th>\n",
       "      <td>418560</td>\n",
       "      <td>Erling</td>\n",
       "      <td>Haaland</td>\n",
       "      <td>Erling Haaland</td>\n",
       "      <td>2023</td>\n",
       "      <td>281</td>\n",
       "      <td>erling-haaland</td>\n",
       "      <td>England</td>\n",
       "      <td>Leeds</td>\n",
       "      <td>Norway</td>\n",
       "      <td>...</td>\n",
       "      <td>left</td>\n",
       "      <td>195.0</td>\n",
       "      <td>180000000.0</td>\n",
       "      <td>180000000.0</td>\n",
       "      <td>2027-06-30 00:00:00</td>\n",
       "      <td>Rafaela Pimenta</td>\n",
       "      <td>https://img.a.transfermarkt.technology/portrai...</td>\n",
       "      <td>https://www.transfermarkt.co.uk/erling-haaland...</td>\n",
       "      <td>GB1</td>\n",
       "      <td>Manchester City</td>\n",
       "    </tr>\n",
       "  </tbody>\n",
       "</table>\n",
       "<p>1 rows × 23 columns</p>\n",
       "</div>"
      ]
     },
     "execution_count": 4,
     "metadata": {},
     "output_type": "execute_result"
    }
   ],
   "execution_count": 4
  },
  {
   "cell_type": "markdown",
   "metadata": {
    "collapsed": false,
    "jupyter": {
     "outputs_hidden": false
    }
   },
   "source": [
    "As we can see Erling Haaland is the player with the highest market value in the attack position, and also in all the players provided by the dataset\n",
    "his value is way higher than the other players provided by the dataset"
   ]
  },
  {
   "cell_type": "markdown",
   "metadata": {
    "collapsed": false,
    "jupyter": {
     "outputs_hidden": false
    }
   },
   "source": [
    "## Analysis of the amount of players in each position\n",
    "We can use a pychart to see the amount of players in each position"
   ]
  },
  {
   "cell_type": "code",
   "metadata": {
    "collapsed": false,
    "jupyter": {
     "outputs_hidden": false,
     "is_executing": true
    }
   },
   "source": [
    "plt.pie(players_df_nona['position'].value_counts(), labels=players_df_nona['position'].value_counts().index,autopct='')\n",
    "plt.show()"
   ],
   "outputs": [],
   "execution_count": null
  },
  {
   "cell_type": "markdown",
   "metadata": {
    "collapsed": false,
    "jupyter": {
     "outputs_hidden": false
    }
   },
   "source": [
    "# Grouping by team lineups "
   ]
  },
  {
   "cell_type": "code",
   "metadata": {
    "jupyter": {
     "is_executing": true
    }
   },
   "source": [
    "players_df['full_name'] = players_df['first_name'] + ' ' + players_df['last_name']\n",
    "players_df[['full_name','current_club_name']]\n",
    "# group by team lineups\n",
    "team_lineups = players_df.groupby('current_club_name')['full_name'].apply(list)\n",
    "team_lineups\n"
   ],
   "outputs": [],
   "execution_count": null
  },
  {
   "cell_type": "markdown",
   "metadata": {},
   "source": [
    "# Top 10 players with the highest market value in the world"
   ]
  },
  {
   "cell_type": "markdown",
   "metadata": {},
   "source": []
  },
  {
   "cell_type": "code",
   "metadata": {},
   "source": [
    "\n",
    "players_df['full_name'] = players_df['first_name'] + ' ' + players_df['last_name']\n",
    "player_df_sorted = players_df.sort_values(by='highest_market_value_in_eur', ascending=False).head(10)\n",
    "top_10_players = player_df_sorted.head(10)\n",
    "player_df_sorted = player_df_sorted.iloc[::-1]\n",
    "'''\n",
    "fig = px.scatter(player_df_sorted, x=\"highest_market_value_in_eur\", y=\"full_name\",orientation='v')\n",
    "fig.show()\n",
    "'''\n",
    "\n",
    "sns.set_theme(style=\"darkgrid\")\n",
    "sns.scatterplot(x='highest_market_value_in_eur', y='full_name', data=top_10_players)"
   ],
   "outputs": [],
   "execution_count": null
  },
  {
   "cell_type": "markdown",
   "metadata": {},
   "source": [
    "# We are showing on that map the country of origin of the player (in dataset)\n",
    "using geopandas lib to show "
   ]
  },
  {
   "cell_type": "code",
   "metadata": {},
   "source": [
    "\n",
    "# Get counts of players per country\n",
    "player_counts = players_df[\"country_of_birth\"].value_counts()\n",
    "\n",
    "# Create a new DataFrame with country names and player counts\n",
    "player_counts_df = pd.DataFrame({\n",
    "    'name': player_counts.index,\n",
    "    'player_count': player_counts.values\n",
    "})\n",
    "\n",
    "# Merge world DataFrame with player counts\n",
    "world = world.merge(player_counts_df, how=\"left\", on=\"name\")\n",
    "\n",
    "# Replace NaN values with 0 (countries with no players)\n",
    "world['player_count'].fillna(0, inplace=True)\n",
    "\n",
    "# Plot the world map with player counts\n",
    "fig, ax = plt.subplots(1, 1)\n",
    "world.plot(column='player_count', \n",
    "           cmap='YlOrRd', \n",
    "           linewidth=0.8, \n",
    "           ax=ax, \n",
    "           edgecolor='0.8', \n",
    "           legend=True, \n",
    "           legend_kwds={'label': \"Player Count\", 'orientation': \"horizontal\"})\n",
    "plt.show()"
   ],
   "outputs": [],
   "execution_count": null
  },
  {
   "cell_type": "code",
   "metadata": {},
   "source": [],
   "outputs": [],
   "execution_count": null
  },
  {
   "cell_type": "markdown",
   "metadata": {},
   "source": [
    "# Data analysis how the must valued player take value in the market during the time"
   ]
  },
  {
   "cell_type": "code",
   "metadata": {},
   "source": [
    "\n",
    "merged_df = players_valuations_df.merge(players_df[['player_id', 'first_name', 'last_name']], on='player_id')\n",
    "\n",
    "max_market_player = merged_df.loc[merged_df['market_value_in_eur'].idxmax()]\n",
    "\n",
    "player_valuation_df = merged_df[merged_df['player_id'] == max_market_player['player_id']]\n",
    "\n",
    "plt.plot(player_valuation_df['datetime'], player_valuation_df['market_value_in_eur'])\n",
    "plt.title('Market Value Over Time for {} {}'.format(max_market_player['first_name'], max_market_player['last_name']))\n",
    "plt.xlabel('Date')\n",
    "plt.ylabel('Market Value in EUR')\n",
    "plt.xticks(rotation=45)\n",
    "plt.show()"
   ],
   "outputs": [],
   "execution_count": null
  },
  {
   "cell_type": "markdown",
   "metadata": {},
   "source": [
    "# Data analysis how the less valued player take value in the market during the time"
   ]
  },
  {
   "cell_type": "code",
   "metadata": {},
   "source": [
    "\n",
    "merged_df = players_valuations_df.merge(players_df[['player_id', 'first_name', 'last_name']], on='player_id')\n",
    "\n",
    "max_market_player = merged_df.loc[merged_df['market_value_in_eur'].idxmin()]\n",
    "\n",
    "player_valuation_df = merged_df[merged_df['player_id'] == max_market_player['player_id']]\n",
    "\n",
    "plt.plot(player_valuation_df['datetime'], player_valuation_df['market_value_in_eur'])\n",
    "plt.title('Market Value Over Time for {} {}'.format(max_market_player['first_name'], max_market_player['last_name']))\n",
    "plt.xlabel('Date')\n",
    "plt.ylabel('Market Value in EUR')\n",
    "plt.xticks(rotation=45)\n",
    "plt.show()"
   ],
   "outputs": [],
   "execution_count": null
  },
  {
   "cell_type": "markdown",
   "metadata": {},
   "source": [
    "# Data analysis players with the highest yellow cards gruoped by country of birth"
   ]
  },
  {
   "cell_type": "code",
   "metadata": {},
   "source": [
    "import folium\n",
    "import geopandas as gpd\n",
    "import matplotlib.pyplot as plt\n",
    "from IPython.display import display\n",
    "m = folium.Map(location=[0, 0], zoom_start=2)\n",
    "merged_play_app_df = players_df.merge(appereances_df, on='player_id')\n",
    "world = gpd.read_file(\"/Users/popper/Documents/Uni/Terzo_anno /TWEB/Progettto/Eleonora_Francesco_Riccardo/Data_Analysis/src/ne_110m_admin_0_countries\")\n",
    "total_yellow_cards = merged_play_app_df.groupby( \"country_of_birth\")['yellow_cards'].sum().reset_index()      \n",
    "merged_play_app_df = players_df.merge(appereances_df, on='player_id')\n",
    "\n",
    "# Sommare i cartellini gialli per ogni giocatore raggruppati per country_of_birth\n",
    "total_yellow_cards = merged_play_app_df.groupby(\"country_of_birth\")['yellow_cards'].sum().reset_index()\n",
    "\n",
    "# Caricare il file shapefile dei paesi del mondo\n",
    "world = gpd.read_file(gpd.datasets.get_path('naturalearth_lowres'))\n",
    "world = world[(world.pop_est > 0) & (world.name != \"Antarctica\")]\n",
    "\n",
    "# Unire i dati dei cartellini gialli con le geometrie dei paesi\n",
    "world = world.merge(total_yellow_cards, how=\"left\", left_on=\"name\", right_on=\"country_of_birth\")\n",
    "\n",
    "# Impostare i valori NaN a 0\n",
    "world['yellow_cards'].fillna(0, inplace=True)\n",
    "\n",
    "# Creare la mappa\n",
    "m = folium.Map(location=[0, 0], zoom_start=2)\n",
    "\n",
    "# Aggiungere i poligoni dei paesi alla mappa con un colore basato sui cartellini gialli\n",
    "folium.Choropleth(\n",
    "    geo_data=world,\n",
    "    data=world,\n",
    "    columns=['name', 'yellow_cards'],\n",
    "    key_on='feature.properties.name',\n",
    "    fill_color='YlOrRd',\n",
    "    fill_opacity=0.7,\n",
    "    line_opacity=0.2,\n",
    "    legend_name='Number of Yellow Cards'\n",
    ").add_to(m)\n",
    "\n",
    "# Aggiungere un titolo alla mappa\n",
    "title_html = '<h3 align=\"center\" style=\"font-size:20px\"><b>Countries by Number of Players with Yellow Cards</b></h3>'\n",
    "m.get_root().html.add_child(folium.Element(title_html))\n",
    "\n",
    "# Visualizzare la mappa\n",
    "display(m)"
   ],
   "outputs": [],
   "execution_count": null
  },
  {
   "cell_type": "code",
   "metadata": {},
   "source": [
    "\n",
    "# Data analysis players with the highest red cards gruoped by country of birth"
   ],
   "outputs": [],
   "execution_count": null
  },
  {
   "cell_type": "code",
   "metadata": {},
   "source": [
    "import folium\n",
    "import geopandas as gpd\n",
    "import matplotlib.pyplot as plt\n",
    "from IPython.display import display\n",
    "m = folium.Map(location=[0, 0], zoom_start=2)\n",
    "merged_play_app_df = players_df.merge(appereances_df, on='player_id')\n",
    "world = gpd.read_file(\"/Users/popper/Documents/Uni/Terzo_anno /TWEB/Progettto/Eleonora_Francesco_Riccardo/Data_Analysis/src/ne_110m_admin_0_countries\")\n",
    "total_red_cards = merged_play_app_df.groupby( \"country_of_birth\")['red_cards'].sum().reset_index()      \n",
    "merged_play_app_df = players_df.merge(appereances_df, on='player_id')\n",
    "\n",
    "# Sommare i cartellini gialli per ogni giocatore raggruppati per country_of_birth\n",
    "total_red_cards = merged_play_app_df.groupby(\"country_of_birth\")['red_cards'].sum().reset_index()\n",
    "\n",
    "# Caricare il file shapefile dei paesi del mondo\n",
    "world = gpd.read_file(gpd.datasets.get_path('naturalearth_lowres'))\n",
    "world = world[(world.pop_est > 0) & (world.name != \"Antarctica\")]\n",
    "\n",
    "# Unire i dati dei cartellini gialli con le geometrie dei paesi\n",
    "world = world.merge(total_red_cards, how=\"left\", left_on=\"name\", right_on=\"country_of_birth\")\n",
    "\n",
    "# Impostare i valori NaN a 0\n",
    "world['red_cards'].fillna(0, inplace=True)\n",
    "\n",
    "# Creare la mappa\n",
    "m = folium.Map(location=[0, 0], zoom_start=2)\n",
    "\n",
    "# Aggiungere i poligoni dei paesi alla mappa con un colore basato sui cartellini gialli\n",
    "folium.Choropleth(\n",
    "    geo_data=world,\n",
    "    data=world,\n",
    "    columns=['name', 'red_cards'],\n",
    "    key_on='feature.properties.name',\n",
    "    fill_color='YlGn',\n",
    "    fill_opacity=0.7,\n",
    "    line_opacity=0.2,\n",
    "    legend_name='Number of Red Cards'\n",
    ").add_to(m)\n",
    "\n",
    "# Aggiungere un titolo alla mappa\n",
    "title_html = '<h3 align=\"center\" style=\"font-size:20px\"><b>Countries  by Number of Players with Red Cards</b></h3>'\n",
    "m.get_root().html.add_child(folium.Element(title_html))\n",
    "\n",
    "# Visualizzare la mappa\n",
    "display(m)"
   ],
   "outputs": [],
   "execution_count": null
  },
  {
   "cell_type": "markdown",
   "metadata": {},
   "source": [
    "# Data analysis means of players in the last appereances gruped by country of birth"
   ]
  },
  {
   "cell_type": "code",
   "metadata": {},
   "source": [
    "import pandas as pd\n",
    "import geopandas as gpd\n",
    "import folium\n",
    "from IPython.display import display\n",
    "\n",
    "# Unire i due DataFrame sui campi ID\n",
    "joined_df = players_df.merge(appereances_df, on='player_id')\n",
    "\n",
    "# Assicurarsi che la colonna delle date sia in formato datetime\n",
    "joined_df['date'] = pd.to_datetime(joined_df['date'])\n",
    "joined_df['date_of_birth'] = pd.to_datetime(joined_df['date_of_birth'])\n",
    "\n",
    "# Trovare la data più recente per ogni ID\n",
    "latest_appearance_df = joined_df.loc[joined_df.groupby('player_id')['date'].idxmax()]\n",
    "\n",
    "# Calcolare l'età al momento dell'ultima apparizione\n",
    "latest_appearance_df['age_at_last_appearance'] = (latest_appearance_df['date'] - latest_appearance_df['date_of_birth']).dt.days // 365\n",
    "\n",
    "# Calcolare la media delle età per nazione di nascita\n",
    "average_age_by_country = latest_appearance_df.groupby('country_of_birth')['age_at_last_appearance'].mean().reset_index()\n",
    "\n",
    "# Caricare i dati geografici del mondo\n",
    "world = gpd.read_file(gpd.datasets.get_path('naturalearth_lowres'))\n",
    "world = world[(world.pop_est > 0) & (world.name != \"Antarctica\")]\n",
    "\n",
    "# Unire i dati geografici con la media delle età per nazione di nascita\n",
    "world = world.merge(average_age_by_country, how=\"left\", left_on=\"name\", right_on=\"country_of_birth\")\n",
    "\n",
    "# Impostare i valori NaN a 0\n",
    "world['age_at_last_appearance'].fillna(0, inplace=True)\n",
    "\n",
    "# Creare la mappa\n",
    "m = folium.Map(location=[0, 0], zoom_start=2)\n",
    "\n",
    "# Aggiungere i poligoni dei paesi alla mappa con un colore basato sulla media delle età\n",
    "choropleth = folium.Choropleth(\n",
    "    geo_data=world,\n",
    "    data=world,\n",
    "    columns=['name', 'age_at_last_appearance'],\n",
    "    key_on='feature.properties.name',\n",
    "    fill_color='YlGn',\n",
    "    fill_opacity=0.7,\n",
    "    line_opacity=0.2,\n",
    "    legend_name='Età media dei giocatori all\\'ultima apparizione'\n",
    ").add_to(m)\n",
    "\n",
    "# Aggiungere un titolo alla mappa\n",
    "title_html = '<h3 align=\"center\" style=\"font-size:20px\"><b>Età media dei giocatori all\\'ultima apparizione per nazione di nascita</b></h3>'\n",
    "m.get_root().html.add_child(folium.Element(title_html))\n",
    "\n",
    "# Visualizzare la mappa\n",
    "display(m)\n"
   ],
   "outputs": [],
   "execution_count": null
  },
  {
   "cell_type": "markdown",
   "metadata": {},
   "source": [
    "# Data analysis of the players with players with the highest market value in the world pre covid pandemic"
   ]
  },
  {
   "cell_type": "markdown",
   "metadata": {},
   "source": [
    "### (per ora in italiano per rendere l'idea) Le seguenti analisi riguarda il valore di mercato dei giocatori nel periodo successivo alla pandemia di COVID-19 avvenuta nel 2020 ,l'analisi nasce dalla curiosità di capire come il valore di mercato dei giocatori sia cambiato dopo la pandemia di COVID-19, per fare ciò si è deciso di prendere in considerazione i dati relativi al 2021 e al 2022, in quanto la pandemia ha avuto inizio nel 2020 e si è protratta per un lungo periodo di tempo, influenzando anche il mercato del calcio. "
   ]
  },
  {
   "cell_type": "code",
   "metadata": {
    "ExecuteTime": {
     "end_time": "2024-06-26T17:30:32.961584Z",
     "start_time": "2024-06-26T17:30:32.881684Z"
    }
   },
   "source": [
    "# Import necessary libraries\n",
    "from plotly.offline import init_notebook_mode\n",
    "import plotly.graph_objects as go\n",
    "import pandas as pd\n",
    "\n",
    "# Initialize notebook mode\n",
    "init_notebook_mode(connected=True)\n",
    "\n",
    "# Assumendo che players_valuations_df e players_df siano già caricati\n",
    "merged_df = players_valuations_df.merge(players_df[['player_id', 'first_name', 'last_name']], on='player_id')\n",
    "\n",
    "max_market_player = merged_df.loc[merged_df['market_value_in_eur'].idxmax()]\n",
    "\n",
    "# Valutazioni pre-covid\n",
    "player_valuation_pre_covid_df = merged_df[merged_df['player_id'] == max_market_player['player_id']]\n",
    "player_valuation_pre_covid_df = player_valuation_pre_covid_df[(player_valuation_pre_covid_df['datetime'] > '2017-01-01') & (player_valuation_pre_covid_df['datetime'] < '2020-01-01')]\n",
    "\n",
    "\n",
    "# Converti la colonna 'datetime' in formato datetime\n",
    "player_valuation_pre_covid_df['datetime'] = pd.to_datetime(player_valuation_pre_covid_df['datetime'])\n",
    "\n",
    "# Crea una colonna 'date' con solo la data (senza il tempo)\n",
    "player_valuation_pre_covid_df['date'] = player_valuation_pre_covid_df['datetime'].dt.date\n",
    "\n",
    "# Ordina il dataframe per data\n",
    "player_valuation_pre_covid_df = player_valuation_pre_covid_df.sort_values(by='date')\n",
    "\n",
    "# Create figure\n",
    "fig = go.Figure()\n",
    "\n",
    "# Make frames\n",
    "frames = [go.Frame(data=[go.Scatter(x=player_valuation_pre_covid_df[player_valuation_pre_covid_df['date'] <= date]['date'],\n",
    "                                    y=player_valuation_pre_covid_df[player_valuation_pre_covid_df['date'] <= date]['market_value_in_eur'],\n",
    "                                    mode='lines+markers')],\n",
    "                   name=str(date)) for date in player_valuation_pre_covid_df['date'].unique()]\n",
    "\n",
    "# Add traces\n",
    "fig.add_trace(go.Scatter(x=player_valuation_pre_covid_df['date'], y=player_valuation_pre_covid_df['market_value_in_eur'],\n",
    "                         mode='lines+markers', line=dict(color='blue')))\n",
    "\n",
    "fig.frames = frames\n",
    "\n",
    "# Add sliders and buttons\n",
    "fig.update_layout(\n",
    "    title='Market Value of {} 3 years before covid-19'.format(max_market_player['first_name'] + ' ' + max_market_player['last_name']) ,\n",
    "    xaxis_title='Date',\n",
    "    yaxis_title='Market Value in EUR',\n",
    "    updatemenus=[{\n",
    "        'buttons': [\n",
    "            {'label': 'Play',\n",
    "             'method': 'animate',\n",
    "             'args': [None, {'frame': {'duration': 500, 'redraw': True}, 'fromcurrent': True}]},\n",
    "            {'label': 'Pause',\n",
    "             'method': 'animate',\n",
    "             'args': [[None], {'frame': {'duration': 0, 'redraw': True}, 'mode': 'immediate', 'transition': {'duration': 0}}]}\n",
    "        ],\n",
    "        'direction': 'left',\n",
    "        'pad': {'r': 10, 't': 87},\n",
    "        'showactive': False,\n",
    "        'type': 'buttons',\n",
    "        'x': 0.1,\n",
    "        'xanchor': 'right',\n",
    "        'y': 0,\n",
    "        'yanchor': 'top'\n",
    "    }],\n",
    "    sliders=[{\n",
    "        'steps': [{'args': [[str(date)], {'frame': {'duration': 300, 'redraw': True}, 'mode': 'immediate', 'transition': {'duration': 300}}],\n",
    "                   'label': str(date),\n",
    "                   'method': 'animate'} for date in player_valuation_pre_covid_df['date'].unique()],\n",
    "        'active': 0,\n",
    "        'yanchor': 'top',\n",
    "        'xanchor': 'left',\n",
    "        'currentvalue': {\n",
    "            'font': {'size': 20},\n",
    "            'prefix': 'Date:',\n",
    "            'visible': True,\n",
    "            'xanchor': 'right'\n",
    "        },\n",
    "        'transition': {'duration': 300},\n",
    "        'x': 0.1,\n",
    "        'len': 0.9,\n",
    "        'y': 0,\n",
    "        'pad': {'b': 10, 't': 50}\n",
    "    }]\n",
    ")\n",
    "\n",
    "fig.show()\n",
    "\n"
   ],
   "outputs": [
    {
     "data": {
      "text/html": [
       "        <script type=\"text/javascript\">\n",
       "        window.PlotlyConfig = {MathJaxConfig: 'local'};\n",
       "        if (window.MathJax && window.MathJax.Hub && window.MathJax.Hub.Config) {window.MathJax.Hub.Config({SVG: {font: \"STIX-Web\"}});}\n",
       "        if (typeof require !== 'undefined') {\n",
       "        require.undef(\"plotly\");\n",
       "        requirejs.config({\n",
       "            paths: {\n",
       "                'plotly': ['https://cdn.plot.ly/plotly-2.32.0.min']\n",
       "            }\n",
       "        });\n",
       "        require(['plotly'], function(Plotly) {\n",
       "            window._Plotly = Plotly;\n",
       "        });\n",
       "        }\n",
       "        </script>\n",
       "        "
      ]
     },
     "metadata": {},
     "output_type": "display_data"
    },
    {
     "ename": "NameError",
     "evalue": "name 'players_valuations_df' is not defined",
     "output_type": "error",
     "traceback": [
      "\u001B[0;31m---------------------------------------------------------------------------\u001B[0m",
      "\u001B[0;31mNameError\u001B[0m                                 Traceback (most recent call last)",
      "Cell \u001B[0;32mIn[4], line 10\u001B[0m\n\u001B[1;32m      7\u001B[0m init_notebook_mode(connected\u001B[38;5;241m=\u001B[39m\u001B[38;5;28;01mTrue\u001B[39;00m)\n\u001B[1;32m      9\u001B[0m \u001B[38;5;66;03m# Assumendo che players_valuations_df e players_df siano già caricati\u001B[39;00m\n\u001B[0;32m---> 10\u001B[0m merged_df \u001B[38;5;241m=\u001B[39m players_valuations_df\u001B[38;5;241m.\u001B[39mmerge(players_df[[\u001B[38;5;124m'\u001B[39m\u001B[38;5;124mplayer_id\u001B[39m\u001B[38;5;124m'\u001B[39m, \u001B[38;5;124m'\u001B[39m\u001B[38;5;124mfirst_name\u001B[39m\u001B[38;5;124m'\u001B[39m, \u001B[38;5;124m'\u001B[39m\u001B[38;5;124mlast_name\u001B[39m\u001B[38;5;124m'\u001B[39m]], on\u001B[38;5;241m=\u001B[39m\u001B[38;5;124m'\u001B[39m\u001B[38;5;124mplayer_id\u001B[39m\u001B[38;5;124m'\u001B[39m)\n\u001B[1;32m     12\u001B[0m max_market_player \u001B[38;5;241m=\u001B[39m merged_df\u001B[38;5;241m.\u001B[39mloc[merged_df[\u001B[38;5;124m'\u001B[39m\u001B[38;5;124mmarket_value_in_eur\u001B[39m\u001B[38;5;124m'\u001B[39m]\u001B[38;5;241m.\u001B[39midxmax()]\n\u001B[1;32m     14\u001B[0m \u001B[38;5;66;03m# Valutazioni pre-covid\u001B[39;00m\n",
      "\u001B[0;31mNameError\u001B[0m: name 'players_valuations_df' is not defined"
     ]
    }
   ],
   "execution_count": 4
  },
  {
   "cell_type": "markdown",
   "metadata": {},
   "source": [
    "# Data analysis of the players with the highest market value in the world during covid pandemic years"
   ]
  },
  {
   "cell_type": "code",
   "metadata": {
    "ExecuteTime": {
     "end_time": "2024-06-26T17:30:28.896874Z",
     "start_time": "2024-06-26T17:30:28.844705Z"
    }
   },
   "source": [
    "## Import necessary libraries\n",
    "from plotly.offline import init_notebook_mode\n",
    "import plotly.graph_objects as go\n",
    "import pandas as pd\n",
    "\n",
    "# Initialize notebook mode\n",
    "init_notebook_mode(connected=True)\n",
    "\n",
    "# Assumendo che players_valuations_df e players_df siano già caricati\n",
    "merged_df = players_valuations_df.merge(players_df[['player_id', 'first_name', 'last_name']], on='player_id')\n",
    "\n",
    "max_market_player = merged_df.loc[merged_df['market_value_in_eur'].idxmax()]\n",
    "\n",
    "# Valutazioni durante il periodo COVID-19\n",
    "player_valuation_during_covid_df = merged_df[merged_df['player_id'] == max_market_player['player_id']]\n",
    "player_valuation_during_covid_df = player_valuation_during_covid_df[(player_valuation_during_covid_df['datetime'] > '2020-01-01') & (player_valuation_during_covid_df['datetime'] < '2023-01-01')]\n",
    "\n",
    "# Converti la colonna 'datetime' in formato datetime\n",
    "player_valuation_during_covid_df['datetime'] = pd.to_datetime(player_valuation_during_covid_df['datetime'])\n",
    "\n",
    "# Crea una colonna 'date' con solo la data (senza il tempo)\n",
    "player_valuation_during_covid_df['date'] = player_valuation_during_covid_df['datetime'].dt.date\n",
    "\n",
    "# Ordina il dataframe per data\n",
    "player_valuation_during_covid_df = player_valuation_during_covid_df.sort_values(by='date')\n",
    "\n",
    "# Create figure\n",
    "fig = go.Figure()\n",
    "\n",
    "# Make frames\n",
    "frames = [go.Frame(data=[go.Scatter(x=player_valuation_during_covid_df[player_valuation_during_covid_df['date'] <= date]['date'],\n",
    "                                    y=player_valuation_during_covid_df[player_valuation_during_covid_df['date'] <= date]['market_value_in_eur'],\n",
    "                                    mode='lines+markers')],\n",
    "                   name=str(date)) for date in player_valuation_during_covid_df['date'].unique()]\n",
    "\n",
    "# Add traces\n",
    "fig.add_trace(go.Scatter(x=player_valuation_during_covid_df['date'], y=player_valuation_during_covid_df['market_value_in_eur'],\n",
    "                         mode='lines+markers', line=dict(color='blue')))\n",
    "\n",
    "fig.frames = frames\n",
    "\n",
    "# Add sliders and buttons\n",
    "fig.update_layout(\n",
    "    title='Market Value of {} during covid-19 pandemic'.format(max_market_player['first_name'] + ' ' + max_market_player['last_name']) ,\n",
    "    xaxis_title='Date',\n",
    "    yaxis_title='Market Value in EUR',\n",
    "    updatemenus=[{\n",
    "        'buttons': [\n",
    "            {'label': 'Play',\n",
    "             'method': 'animate',\n",
    "             'args': [None, {'frame': {'duration': 500, 'redraw': True}, 'fromcurrent': True}]},\n",
    "            {'label': 'Pause',\n",
    "             'method': 'animate',\n",
    "             'args': [[None], {'frame': {'duration': 0, 'redraw': True}, 'mode': 'immediate', 'transition': {'duration': 0}}]}\n",
    "        ],\n",
    "        'direction': 'left',\n",
    "        'pad': {'r': 10, 't': 87},\n",
    "        'showactive': False,\n",
    "        'type': 'buttons',\n",
    "        'x': 0.1,\n",
    "        'xanchor': 'right',\n",
    "        'y': 0,\n",
    "        'yanchor': 'top'\n",
    "    }],\n",
    "    sliders=[{\n",
    "        'steps': [{'args': [[str(date)], {'frame': {'duration': 300, 'redraw': True}, 'mode': 'immediate', 'transition': {'duration': 300}}],\n",
    "                   'label': str(date),\n",
    "                   'method': 'animate'} for date in player_valuation_during_covid_df['date'].unique()],\n",
    "        'active': 0,\n",
    "        'yanchor': 'top',\n",
    "        'xanchor': 'left',\n",
    "        'currentvalue': {\n",
    "            'font': {'size': 20},\n",
    "            'prefix': 'Date:',\n",
    "            'visible': True,\n",
    "            'xanchor': 'right'\n",
    "        },\n",
    "        'transition': {'duration': 16},\n",
    "        'x': 0.1,\n",
    "        'len': 0.9,\n",
    "        'y': 0,\n",
    "        'pad': {'b': 10, 't': 50}\n",
    "    }]\n",
    ")\n",
    "\n",
    "fig.show()\n",
    "\n",
    "\n"
   ],
   "outputs": [
    {
     "data": {
      "text/html": [
       "        <script type=\"text/javascript\">\n",
       "        window.PlotlyConfig = {MathJaxConfig: 'local'};\n",
       "        if (window.MathJax && window.MathJax.Hub && window.MathJax.Hub.Config) {window.MathJax.Hub.Config({SVG: {font: \"STIX-Web\"}});}\n",
       "        if (typeof require !== 'undefined') {\n",
       "        require.undef(\"plotly\");\n",
       "        requirejs.config({\n",
       "            paths: {\n",
       "                'plotly': ['https://cdn.plot.ly/plotly-2.32.0.min']\n",
       "            }\n",
       "        });\n",
       "        require(['plotly'], function(Plotly) {\n",
       "            window._Plotly = Plotly;\n",
       "        });\n",
       "        }\n",
       "        </script>\n",
       "        "
      ]
     },
     "metadata": {},
     "output_type": "display_data"
    },
    {
     "ename": "NameError",
     "evalue": "name 'players_valuations_df' is not defined",
     "output_type": "error",
     "traceback": [
      "\u001B[0;31m---------------------------------------------------------------------------\u001B[0m",
      "\u001B[0;31mNameError\u001B[0m                                 Traceback (most recent call last)",
      "Cell \u001B[0;32mIn[3], line 10\u001B[0m\n\u001B[1;32m      7\u001B[0m init_notebook_mode(connected\u001B[38;5;241m=\u001B[39m\u001B[38;5;28;01mTrue\u001B[39;00m)\n\u001B[1;32m      9\u001B[0m \u001B[38;5;66;03m# Assumendo che players_valuations_df e players_df siano già caricati\u001B[39;00m\n\u001B[0;32m---> 10\u001B[0m merged_df \u001B[38;5;241m=\u001B[39m players_valuations_df\u001B[38;5;241m.\u001B[39mmerge(players_df[[\u001B[38;5;124m'\u001B[39m\u001B[38;5;124mplayer_id\u001B[39m\u001B[38;5;124m'\u001B[39m, \u001B[38;5;124m'\u001B[39m\u001B[38;5;124mfirst_name\u001B[39m\u001B[38;5;124m'\u001B[39m, \u001B[38;5;124m'\u001B[39m\u001B[38;5;124mlast_name\u001B[39m\u001B[38;5;124m'\u001B[39m]], on\u001B[38;5;241m=\u001B[39m\u001B[38;5;124m'\u001B[39m\u001B[38;5;124mplayer_id\u001B[39m\u001B[38;5;124m'\u001B[39m)\n\u001B[1;32m     12\u001B[0m max_market_player \u001B[38;5;241m=\u001B[39m merged_df\u001B[38;5;241m.\u001B[39mloc[merged_df[\u001B[38;5;124m'\u001B[39m\u001B[38;5;124mmarket_value_in_eur\u001B[39m\u001B[38;5;124m'\u001B[39m]\u001B[38;5;241m.\u001B[39midxmax()]\n\u001B[1;32m     14\u001B[0m \u001B[38;5;66;03m# Valutazioni durante il periodo COVID-19\u001B[39;00m\n",
      "\u001B[0;31mNameError\u001B[0m: name 'players_valuations_df' is not defined"
     ]
    }
   ],
   "execution_count": 3
  },
  {
   "cell_type": "markdown",
   "metadata": {},
   "source": [
    "# Data analysis of the players with the highest market value in the world  covid pandemic years"
   ]
  },
  {
   "cell_type": "markdown",
   "metadata": {},
   "source": [
    "# Data analysis of how Covid pandemic has affected the market value of the players in the world "
   ]
  },
  {
   "cell_type": "markdown",
   "metadata": {},
   "source": [
    "La seguente analisi punta nel capire come la pandemia di COVID-19 abbia influenzato il valore di mercato dei giocatori di calcio nel mondo, paragonando il loro valore di mercato precedente al 2020 e comprendendo quando in media un giocatore ha perso / acquisito durante il periodo di pandemia "
   ]
  },
  {
   "cell_type": "code",
   "metadata": {},
   "source": [],
   "outputs": [],
   "execution_count": null
  },
  {
   "cell_type": "markdown",
   "metadata": {},
   "source": [
    "#Data analysis of the top 10 players with the highest market value in the world before the covid pandemic\n"
   ]
  },
  {
   "cell_type": "code",
   "metadata": {},
   "source": [],
   "outputs": [],
   "execution_count": null
  }
 ],
 "metadata": {
  "kernelspec": {
   "display_name": "Python 3 (ipykernel)",
   "language": "python",
   "name": "python3"
  },
  "language_info": {
   "codemirror_mode": {
    "name": "ipython",
    "version": 3
   },
   "file_extension": ".py",
   "mimetype": "text/x-python",
   "name": "python",
   "nbconvert_exporter": "python",
   "pygments_lexer": "ipython3",
   "version": "3.11.6"
  }
 },
 "nbformat": 4,
 "nbformat_minor": 4
}
