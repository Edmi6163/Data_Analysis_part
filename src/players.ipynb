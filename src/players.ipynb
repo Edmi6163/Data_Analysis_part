{
 "cells": [
  {
   "cell_type": "markdown",
   "metadata": {},
   "source": [
    " ### ANALYSIS OF THE PLAYERS DATASET "
   ]
  },
  {
   "cell_type": "markdown",
   "metadata": {},
   "source": [
    "# Data analysis from players,players valuations and clubs datasets \n",
    "The first cell is just to set folder path and library used"
   ]
  },
  {
   "cell_type": "code",
   "metadata": {
    "collapsed": false,
    "ExecuteTime": {
     "end_time": "2024-05-01T18:40:34.180180Z",
     "start_time": "2024-05-01T18:40:34.162711Z"
    }
   },
   "source": [
    "import pandas as pd\n",
    "import seaborn as sns \n",
    "import geopandas as gdp\n",
    "import matplotlib.pyplot as plt\n",
    "# import plotly.express as px\n",
    "\n",
    "folder_path = '../assets/Assignment_Data_2023-2024/Assignment_Data_2023-2024/'\n",
    "players_df = pd.read_csv(folder_path+'players.csv')\n",
    "club_df = pd.read_csv(folder_path+'clubs.csv')\n",
    "players_valuations_df = pd.read_csv(folder_path+'player_valuations.csv')\n",
    "players_valuations_df_nona = players_valuations_df.dropna()\n",
    "players_df_nona = players_df.dropna()"
   ],
   "outputs": [
    {
     "ename": "ModuleNotFoundError",
     "evalue": "No module named 'geopandas'",
     "output_type": "error",
     "traceback": [
      "\u001B[0;31m---------------------------------------------------------------------------\u001B[0m",
      "\u001B[0;31mModuleNotFoundError\u001B[0m                       Traceback (most recent call last)",
      "Cell \u001B[0;32mIn[4], line 3\u001B[0m\n\u001B[1;32m      1\u001B[0m \u001B[38;5;28;01mimport\u001B[39;00m \u001B[38;5;21;01mpandas\u001B[39;00m \u001B[38;5;28;01mas\u001B[39;00m \u001B[38;5;21;01mpd\u001B[39;00m\n\u001B[1;32m      2\u001B[0m \u001B[38;5;28;01mimport\u001B[39;00m \u001B[38;5;21;01mseaborn\u001B[39;00m \u001B[38;5;28;01mas\u001B[39;00m \u001B[38;5;21;01msns\u001B[39;00m \n\u001B[0;32m----> 3\u001B[0m \u001B[38;5;28;01mimport\u001B[39;00m \u001B[38;5;21;01mgeopandas\u001B[39;00m \u001B[38;5;28;01mas\u001B[39;00m \u001B[38;5;21;01mgdp\u001B[39;00m\n\u001B[1;32m      4\u001B[0m \u001B[38;5;28;01mimport\u001B[39;00m \u001B[38;5;21;01mmatplotlib\u001B[39;00m\u001B[38;5;21;01m.\u001B[39;00m\u001B[38;5;21;01mpyplot\u001B[39;00m \u001B[38;5;28;01mas\u001B[39;00m \u001B[38;5;21;01mplt\u001B[39;00m\n\u001B[1;32m      5\u001B[0m \u001B[38;5;66;03m# import plotly.express as px\u001B[39;00m\n",
      "\u001B[0;31mModuleNotFoundError\u001B[0m: No module named 'geopandas'"
     ]
    }
   ],
   "execution_count": 4
  },
  {
   "cell_type": "markdown",
   "metadata": {
    "collapsed": false
   },
   "source": [
    "# Value of the players correlated to their position \n",
    "Distribution of market value of players depending on their position\n",
    "We can see 1 point in the Attack column that we can consider an outlier because it is out of the usual bounds "
   ]
  },
  {
   "cell_type": "code",
   "metadata": {
    "ExecuteTime": {
     "end_time": "2024-05-01T18:20:05.520366Z",
     "start_time": "2024-05-01T18:20:05.505045Z"
    }
   },
   "source": [
    "sns.scatterplot(x='position', y='market_value_in_eur', data=players_df_nona)\n",
    "plt.show(); "
   ],
   "outputs": [
    {
     "ename": "NameError",
     "evalue": "name 'players_df_nona' is not defined",
     "output_type": "error",
     "traceback": [
      "\u001B[0;31m---------------------------------------------------------------------------\u001B[0m",
      "\u001B[0;31mNameError\u001B[0m                                 Traceback (most recent call last)",
      "Cell \u001B[0;32mIn[3], line 1\u001B[0m\n\u001B[0;32m----> 1\u001B[0m sns\u001B[38;5;241m.\u001B[39mscatterplot(x\u001B[38;5;241m=\u001B[39m\u001B[38;5;124m'\u001B[39m\u001B[38;5;124mposition\u001B[39m\u001B[38;5;124m'\u001B[39m, y\u001B[38;5;241m=\u001B[39m\u001B[38;5;124m'\u001B[39m\u001B[38;5;124mmarket_value_in_eur\u001B[39m\u001B[38;5;124m'\u001B[39m, data\u001B[38;5;241m=\u001B[39m\u001B[43mplayers_df_nona\u001B[49m)\n\u001B[1;32m      2\u001B[0m plt\u001B[38;5;241m.\u001B[39mshow(); \n",
      "\u001B[0;31mNameError\u001B[0m: name 'players_df_nona' is not defined"
     ]
    }
   ],
   "execution_count": 3
  },
  {
   "cell_type": "markdown",
   "metadata": {},
   "source": []
  },
  {
   "cell_type": "markdown",
   "metadata": {
    "collapsed": false
   },
   "source": [
    "# Analysis of the outlier in the Attack column\n",
    "Finding who is the player that has the highest market value in the Attack position\n",
    "that create the outlier in the graph above,just by searcing the highest value in the column"
   ]
  },
  {
   "cell_type": "code",
   "metadata": {
    "collapsed": false
   },
   "source": [
    "players_df_nona[players_df_nona['market_value_in_eur'] == players_df_nona['market_value_in_eur'].max()]\n"
   ],
   "outputs": [],
   "execution_count": null
  },
  {
   "cell_type": "markdown",
   "metadata": {
    "collapsed": false
   },
   "source": [
    "As we can see Erling Haaland is the player with the highest market value in the attack position, and also in all the players provided by the dataset\n",
    "his value is way higher than the other players provided by the dataset"
   ]
  },
  {
   "cell_type": "markdown",
   "metadata": {
    "collapsed": false
   },
   "source": [
    "## Analysis of the amount of players in each position\n",
    "We can use a pychart to see the amount of players in each position"
   ]
  },
  {
   "cell_type": "code",
   "metadata": {
    "collapsed": false
   },
   "source": [
    "plt.pie(players_df_nona['position'].value_counts(), labels=players_df_nona['position'].value_counts().index,autopct='')\n",
    "plt.show()"
   ],
   "outputs": [],
   "execution_count": null
  },
  {
   "cell_type": "markdown",
   "metadata": {
    "collapsed": false
   },
   "source": [
    "# Grouping by team lineups "
   ]
  },
  {
   "cell_type": "code",
   "metadata": {
    "ExecuteTime": {
     "end_time": "2024-05-01T18:20:05.538203Z",
     "start_time": "2024-05-01T18:20:05.523717Z"
    }
   },
   "source": [
    "players_df['full_name'] = players_df['first_name'] + ' ' + players_df['last_name']\n",
    "players_df[['full_name','current_club_name']]\n",
    "# group by team lineups\n",
    "team_lineups = players_df.groupby('current_club_name')['full_name'].apply(list)\n",
    "team_lineups\n"
   ],
   "outputs": [
    {
     "ename": "NameError",
     "evalue": "name 'players_df' is not defined",
     "output_type": "error",
     "traceback": [
      "\u001B[0;31m---------------------------------------------------------------------------\u001B[0m",
      "\u001B[0;31mNameError\u001B[0m                                 Traceback (most recent call last)",
      "Cell \u001B[0;32mIn[4], line 1\u001B[0m\n\u001B[0;32m----> 1\u001B[0m players_df[\u001B[38;5;124m'\u001B[39m\u001B[38;5;124mfull_name\u001B[39m\u001B[38;5;124m'\u001B[39m] \u001B[38;5;241m=\u001B[39m \u001B[43mplayers_df\u001B[49m[\u001B[38;5;124m'\u001B[39m\u001B[38;5;124mfirst_name\u001B[39m\u001B[38;5;124m'\u001B[39m] \u001B[38;5;241m+\u001B[39m \u001B[38;5;124m'\u001B[39m\u001B[38;5;124m \u001B[39m\u001B[38;5;124m'\u001B[39m \u001B[38;5;241m+\u001B[39m players_df[\u001B[38;5;124m'\u001B[39m\u001B[38;5;124mlast_name\u001B[39m\u001B[38;5;124m'\u001B[39m]\n\u001B[1;32m      2\u001B[0m players_df[[\u001B[38;5;124m'\u001B[39m\u001B[38;5;124mfull_name\u001B[39m\u001B[38;5;124m'\u001B[39m,\u001B[38;5;124m'\u001B[39m\u001B[38;5;124mcurrent_club_name\u001B[39m\u001B[38;5;124m'\u001B[39m]]\n\u001B[1;32m      3\u001B[0m \u001B[38;5;66;03m# group by team lineups\u001B[39;00m\n",
      "\u001B[0;31mNameError\u001B[0m: name 'players_df' is not defined"
     ]
    }
   ],
   "execution_count": 4
  },
  {
   "metadata": {},
   "cell_type": "markdown",
   "source": "# Top 10 players with the highest market value in the world"
  },
  {
   "cell_type": "markdown",
   "metadata": {},
   "source": []
  },
  {
   "cell_type": "code",
   "metadata": {},
   "source": [
    "\n",
    "players_df['full_name'] = players_df['first_name'] + ' ' + players_df['last_name']\n",
    "player_df_sorted = players_df.sort_values(by='highest_market_value_in_eur', ascending=False).head(10)\n",
    "top_10_players = player_df_sorted.head(10)\n",
    "player_df_sorted = player_df_sorted.iloc[::-1]\n",
    "'''\n",
    "fig = px.scatter(player_df_sorted, x=\"highest_market_value_in_eur\", y=\"full_name\",orientation='v')\n",
    "fig.show()\n",
    "'''\n",
    "\n",
    "sns.set_theme(style=\"darkgrid\")\n",
    "sns.scatterplot(x='highest_market_value_in_eur', y='full_name', data=top_10_players)"
   ],
   "outputs": [],
   "execution_count": null
  },
  {
   "metadata": {},
   "cell_type": "markdown",
   "source": [
    "# List of the countries with most highest market value players\n",
    "using geopandas lib to show "
   ]
  },
  {
   "metadata": {
    "ExecuteTime": {
     "end_time": "2024-05-01T18:39:48.166382Z",
     "start_time": "2024-05-01T18:39:48.144005Z"
    }
   },
   "cell_type": "code",
   "source": [
    "players_df['full_name'] = players_df['first_name'] + ' ' + players_df['last_name']\n",
    "players_df['country'] = players_df['country_of_birth']\n",
    "players_df['highest_market_value_in_eur'] = players_df['highest_market_value_in_eur']\n",
    "players_df['geometry'] = gdp.tools.geocode(players_df['country'])\n",
    "gdf = gdp.GeoDataFrame(players_df, geometry='geometry')\n",
    "world = gdp.read_file(gdp.datasets.get_path('naturalearth_lowres'))\n",
    "fig, ax = plt.subplots(figsize=(15,15))\n",
    "world.boundary.plot(ax=ax)\n",
    "gdf.plot(ax=ax, color='red')\n",
    "plt.show()\n"
   ],
   "outputs": [
    {
     "ename": "NameError",
     "evalue": "name 'players_df' is not defined",
     "output_type": "error",
     "traceback": [
      "\u001B[0;31m---------------------------------------------------------------------------\u001B[0m",
      "\u001B[0;31mNameError\u001B[0m                                 Traceback (most recent call last)",
      "Cell \u001B[0;32mIn[2], line 1\u001B[0m\n\u001B[0;32m----> 1\u001B[0m players_df[\u001B[38;5;124m'\u001B[39m\u001B[38;5;124mfull_name\u001B[39m\u001B[38;5;124m'\u001B[39m] \u001B[38;5;241m=\u001B[39m \u001B[43mplayers_df\u001B[49m[\u001B[38;5;124m'\u001B[39m\u001B[38;5;124mfirst_name\u001B[39m\u001B[38;5;124m'\u001B[39m] \u001B[38;5;241m+\u001B[39m \u001B[38;5;124m'\u001B[39m\u001B[38;5;124m \u001B[39m\u001B[38;5;124m'\u001B[39m \u001B[38;5;241m+\u001B[39m players_df[\u001B[38;5;124m'\u001B[39m\u001B[38;5;124mlast_name\u001B[39m\u001B[38;5;124m'\u001B[39m]\n\u001B[1;32m      2\u001B[0m players_df[\u001B[38;5;124m'\u001B[39m\u001B[38;5;124mcountry\u001B[39m\u001B[38;5;124m'\u001B[39m] \u001B[38;5;241m=\u001B[39m players_df[\u001B[38;5;124m'\u001B[39m\u001B[38;5;124mcountry_of_birth\u001B[39m\u001B[38;5;124m'\u001B[39m]\n\u001B[1;32m      3\u001B[0m players_df[\u001B[38;5;124m'\u001B[39m\u001B[38;5;124mhighest_market_value_in_eur\u001B[39m\u001B[38;5;124m'\u001B[39m] \u001B[38;5;241m=\u001B[39m players_df[\u001B[38;5;124m'\u001B[39m\u001B[38;5;124mhighest_market_value_in_eur\u001B[39m\u001B[38;5;124m'\u001B[39m]\n",
      "\u001B[0;31mNameError\u001B[0m: name 'players_df' is not defined"
     ]
    }
   ],
   "execution_count": 2
  },
  {
   "metadata": {
    "ExecuteTime": {
     "end_time": "2024-05-01T18:20:05.582752Z",
     "start_time": "2024-05-01T18:20:05.582637Z"
    }
   },
   "cell_type": "code",
   "source": "",
   "outputs": [],
   "execution_count": null
  }
 ],
 "metadata": {
  "kernelspec": {
   "display_name": "Python 3",
   "language": "python",
   "name": "python3"
  },
  "language_info": {
   "codemirror_mode": {
    "name": "ipython",
    "version": 3
   },
   "file_extension": ".py",
   "mimetype": "text/x-python",
   "name": "python",
   "nbconvert_exporter": "python",
   "pygments_lexer": "ipython3",
   "version": "3.11.5"
  }
 },
 "nbformat": 4,
 "nbformat_minor": 2
}
